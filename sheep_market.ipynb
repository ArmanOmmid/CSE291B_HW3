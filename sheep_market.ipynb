{
 "cells": [
  {
   "cell_type": "code",
   "execution_count": 1,
   "metadata": {},
   "outputs": [],
   "source": [
    "import os\n",
    "import numpy as np\n",
    "import torch\n",
    "import torch.nn as nn\n",
    "import torch.optim as optim\n",
    "from torch.utils.data import DataLoader\n",
    "import time\n",
    "\n",
    "from draw_strokes import draw_strokes\n",
    "\n",
    "from experiment import run_epoch\n",
    "from lstm import LSTMGenerator, LSTMDiscriminator\n",
    "from lstm_data import LSTMDataset, create_mask, create_batch_mask, revert\n",
    "\n",
    "DATA_PATH = \"sheep_market.npz\"\n",
    "data = np.load(DATA_PATH, allow_pickle=True, encoding=\"bytes\")\n",
    "train_raw_data = data[\"train\"]\n",
    "valid_raw_data = data[\"valid\"]\n",
    "test_raw_data = data[\"test\"]\n",
    "\n",
    "MEAN = [0.3776045376257754, 0.30774983488947305]\n",
    "STD = [21.851689358105794, 14.4384627726713]\n"
   ]
  },
  {
   "cell_type": "code",
   "execution_count": 2,
   "metadata": {},
   "outputs": [],
   "source": [
    "DIM = 4\n",
    "H_DIM = 16\n",
    "LAYERS = 4\n",
    "\n",
    "DEVICE = \"cuda\" if torch.cuda.is_available() else \"cpu\"\n",
    "NUM_WORKERS = 0 if DEVICE == \"cpu\" else 2\n",
    "\n",
    "generator = LSTMGenerator(h_dim=H_DIM, dim=DIM, num_layers=LAYERS)\n",
    "discriminator = LSTMDiscriminator(h_dim=H_DIM, dim=DIM, num_layers=LAYERS)\n",
    "\n",
    "generator.to(DEVICE)\n",
    "discriminator.to(DEVICE)\n",
    "    \n",
    "train = LSTMDataset(train_raw_data, MEAN, STD)\n",
    "valid = LSTMDataset(valid_raw_data, MEAN, STD)\n",
    "test = LSTMDataset(test_raw_data, MEAN, STD)\n"
   ]
  },
  {
   "cell_type": "code",
   "execution_count": 8,
   "metadata": {},
   "outputs": [
    {
     "name": "stdout",
     "output_type": "stream",
     "text": [
      "SequentialTanh(\n",
      "  (sequential): Sequential(\n",
      "    (0): Linear(in_features=64, out_features=32, bias=True)\n",
      "    (1): Tanh()\n",
      "    (2): Linear(in_features=32, out_features=16, bias=True)\n",
      "    (3): Tanh()\n",
      "    (4): Linear(in_features=16, out_features=8, bias=True)\n",
      "    (5): Tanh()\n",
      "    (6): Linear(in_features=8, out_features=4, bias=True)\n",
      "  )\n",
      ")\n"
     ]
    }
   ],
   "source": [
    "GENERATOR_PATH = \"weights/gen.pth\"\n",
    "DIM = 4\n",
    "H_DIM = 64\n",
    "LAYERS = 4\n",
    "DEVICE = \"cuda\" if torch.cuda.is_available() else \"cpu\"\n",
    "\n",
    "generator = LSTMGenerator(h_dim=H_DIM, dim=DIM, num_layers=LAYERS)\n",
    "print(generator.sequential)\n",
    "# generator.load(GENERATOR_PATH)\n"
   ]
  },
  {
   "cell_type": "code",
   "execution_count": 4,
   "metadata": {},
   "outputs": [
    {
     "name": "stdout",
     "output_type": "stream",
     "text": [
      "[]\n"
     ]
    }
   ],
   "source": [
    "z = torch.normal(torch.zeros(1, 251, H_DIM), 1) # B, H\n",
    "gen = generator(z)\n",
    "gen = revert(gen, MEAN, STD)\n",
    "print(gen)\n",
    "\n",
    "# draw_strokes(gen)\n"
   ]
  },
  {
   "cell_type": "code",
   "execution_count": 5,
   "metadata": {},
   "outputs": [
    {
     "name": "stdout",
     "output_type": "stream",
     "text": [
      "[-11 -26   0]\n",
      "[-20 -36   0]\n",
      "[11 67  0]\n",
      "[2 4 0]\n",
      "[9 9 0]\n",
      "[9 0 0]\n",
      "[  2 -17   1]\n",
      "[-35 -60   0]\n",
      "[ 0 28  0]\n",
      "[10 79  0]\n",
      "[ 0 17  0]\n",
      "[-5  5  0]\n",
      "[-7 -2  0]\n",
      "[-6 -7  0]\n",
      "[-3 -8  0]\n",
      "[ -1 -41   0]\n",
      "[ -2 -13   0]\n",
      "[ -4 -10   0]\n",
      "[-6  9  0]\n",
      "[-1 65  0]\n",
      "[-25 -31   0]\n",
      "[ -3 -18   0]\n",
      "[  0 -33   0]\n",
      "[-33 -10   0]\n",
      "[-15  -3   0]\n",
      "[-80   0   0]\n",
      "[-9  1  0]\n",
      "[-12   5   0]\n",
      "[-6  9  0]\n",
      "[-8 23  0]\n",
      "[-3 18  0]\n",
      "[-1 32  0]\n",
      "[-19  -1   0]\n",
      "[-17 -58   0]\n",
      "[  0 -12   0]\n",
      "[-2 54  0]\n",
      "[-2  2  0]\n",
      "[-6  0  0]\n",
      "[ -7 -10   0]\n",
      "[-2 -6  0]\n",
      "[ -1 -54   0]\n",
      "[-62 -60   0]\n",
      "[ -4 -46   0]\n",
      "[29 -1  0]\n",
      "[24  2  0]\n",
      "[26  0  0]\n",
      "[ 0 42  0]\n",
      "[ 9 12  0]\n",
      "[93  0  0]\n",
      "[53 -5  0]\n",
      "[-5  2  0]\n",
      "[84  1  0]\n",
      "[17  7  0]\n",
      "[7 7 0]\n",
      "[2 8 0]\n",
      "[6 0 1]\n",
      "[-308  -75    0]\n",
      "[-37  25   0]\n",
      "[0 2 0]\n",
      "[ 4 -1  0]\n",
      "[ 13 -12   1]\n",
      "[ 31 -14   0]\n",
      "[ 7 -6  1]\n",
      "[11 -3  0]\n",
      "[0 2 1]\n",
      "[1 3 0]\n",
      "[ 5 -3  0]\n",
      "[6 0 0]\n",
      "[0 8 0]\n",
      "[-18  -2   1]\n",
      "[-10  17   0]\n",
      "[19  0  0]\n",
      "[-22  -3   1]\n",
      "[-30  37   0]\n",
      "[11 -1  0]\n",
      "[9 0 0]\n",
      "[-3  2  0]\n",
      "[-18   0   0]\n",
      "[ 6 -1  1]\n"
     ]
    }
   ],
   "source": [
    "for x in train_raw_data[5]:\n",
    "    print(x)\n"
   ]
  },
  {
   "cell_type": "code",
   "execution_count": 6,
   "metadata": {},
   "outputs": [
    {
     "name": "stdout",
     "output_type": "stream",
     "text": [
      "92\n"
     ]
    },
    {
     "data": {
      "image/svg+xml": [
       "<svg xmlns=\"http://www.w3.org/2000/svg\" xmlns:ev=\"http://www.w3.org/2001/xml-events\" xmlns:xlink=\"http://www.w3.org/1999/xlink\" baseProfile=\"full\" height=\"252.5\" version=\"1.1\" width=\"402.5\"><defs/><rect fill=\"white\" height=\"252.5\" width=\"402.5\" x=\"0\" y=\"0\"/><path d=\"M242.5,57.5 m77.5,20.0 l25.0,16.25 11.25,10.0 l7.5,8.75 13.75,27.5 l0.0,37.5 -3.75,3.75 l-16.25,2.5 -70.0,0.0 l-12.5,2.5 -35.0,1.25 l-102.5,-1.25 -6.25,-2.5 l-25.0,-20.0 -2.5,0.0 l-3.75,-5.0 -6.25,-12.5 l-1.25,-7.5 0.0,-41.25 m55.0,-41.25 l-13.75,1.25 -13.75,-8.75 l-16.25,-17.5 -20.0,-6.25 l-15.0,0.0 -11.25,15.0 l-16.25,5.0 -1.25,2.5 l-11.25,3.75 -3.75,5.0 l1.25,11.25 7.5,0.0 l8.75,5.0 8.75,0.0 l7.5,10.0 16.25,1.25 l5.0,6.25 6.25,2.5 l0.0,2.5 5.0,1.25 m27.5,76.25 l0.0,55.0 10.0,-1.25 l0.0,-46.25 m226.25,2.5 l0.0,40.0 -13.75,0.0 l-2.5,-5.0 -1.25,-30.0 m0.0,-2.5 l0.0,3.75 m-233.75,-22.5 l1.25,42.5 11.25,0.0 l0.0,-7.5 -3.75,-10.0 l0.0,-21.25 m197.5,12.5 l0.0,25.0 11.25,0.0 l0.0,-23.75 -2.5,0.0 m-242.5,-142.5 l-8.75,0.0 m-41.25,21.25 l16.25,0.0 m-7.5,-12.5 l1.25,2.5 -2.5,0.0 l0.0,-2.5 2.5,0.0 l0.0,2.5 -5.0,0.0 l0.0,-2.5 2.5,0.0 l0.0,2.5 -2.5,0.0 l-2.5,-5.0 1.25,-1.25 m65.0,-7.5 l1.25,10.0 5.0,7.5 l5.0,21.25 1.25,15.0 m-5.0,-52.5 l5.0,15.0 0.0,7.5 l5.0,7.5 0.0,16.25 l-5.0,2.5 m-8.75,-46.25 l0.0,7.5 \" fill=\"none\" stroke=\"black\" stroke-width=\"1\"/></svg>"
      ],
      "text/plain": [
       "<IPython.core.display.SVG object>"
      ]
     },
     "metadata": {},
     "output_type": "display_data"
    }
   ],
   "source": [
    "ITEM = 10\n",
    "raw = train_raw_data[ITEM]\n",
    "print(len(raw))\n",
    "draw_strokes(raw)\n"
   ]
  },
  {
   "cell_type": "code",
   "execution_count": 7,
   "metadata": {},
   "outputs": [
    {
     "data": {
      "image/svg+xml": [
       "<svg xmlns=\"http://www.w3.org/2000/svg\" xmlns:ev=\"http://www.w3.org/2001/xml-events\" xmlns:xlink=\"http://www.w3.org/1999/xlink\" baseProfile=\"full\" height=\"1442.5\" version=\"1.1\" width=\"1497.5\"><defs/><rect fill=\"white\" height=\"1442.5\" width=\"1497.5\" x=\"0\" y=\"0\"/><path d=\"M1370.0,106.25 m7.5,-20.0 m27.5,-18.75 m66.25,-42.5 l1.25,16.25 -42.5,21.25 l12.5,16.25 -11.25,-11.25 l-8.75,-22.5 -1.25,-10.0 l-13.75,28.75 -43.75,50.0 l35.0,-23.75 41.25,-1.25 l-41.25,5.0 6.25,8.75 l7.5,-5.0 -31.25,45.0 l-70.0,53.75 43.75,-42.5 l51.25,-3.75 -20.0,6.25 l0.0,2.5 2.5,-18.75 l-25.0,33.75 -73.75,52.5 l56.25,-46.25 60.0,0.0 l-10.0,5.0 10.0,5.0 l2.5,-27.5 -18.75,16.25 l-73.75,52.5 53.75,-48.75 l58.75,-6.25 -12.5,-1.25 l7.5,15.0 -26.25,-30.0 m-57.5,42.5 l-78.75,53.75 48.75,-50.0 l41.25,-1.25 -11.25,8.75 l2.5,18.75 -21.25,-26.25 m-52.5,45.0 l-78.75,53.75 43.75,-50.0 l23.75,-5.0 -22.5,6.25 l2.5,27.5 -10.0,-22.5 m-60.0,50.0 l-77.5,53.75 45.0,-48.75 l16.25,-3.75 -12.5,11.25 l-5.0,25.0 -15.0,-27.5 m-56.25,47.5 l-77.5,53.75 40.0,-48.75 l11.25,-2.5 -7.5,10.0 l-3.75,22.5 -20.0,-31.25 m-62.5,48.75 l-77.5,53.75 40.0,-48.75 l7.5,-1.25 -2.5,5.0 l1.25,20.0 -13.75,-37.5 m-57.5,47.5 l-73.75,53.75 46.25,-48.75 l15.0,22.5 13.75,26.25 l-2.5,25.0 -8.75,-18.75 m-65.0,52.5 l-70.0,53.75 40.0,-26.25 l2.5,18.75 5.0,5.0 l2.5,6.25 2.5,-12.5 m-63.75,52.5 l-63.75,53.75 33.75,-18.75 l-1.25,17.5 3.75,2.5 l1.25,2.5 3.75,-11.25 m-62.5,52.5 l-63.75,53.75 33.75,-16.25 l0.0,13.75 3.75,5.0 l3.75,2.5 1.25,-8.75 m-61.25,52.5 l-63.75,53.75 35.0,-16.25 l0.0,13.75 1.25,3.75 l1.25,5.0 3.75,-13.75 m-62.5,52.5 l-63.75,53.75 33.75,-16.25 l-1.25,15.0 2.5,2.5 l1.25,3.75 2.5,-13.75 m-61.25,52.5 l-65.0,53.75 35.0,-17.5 l0.0,13.75 3.75,2.5 l1.25,2.5 2.5,-11.25 m-60.0,52.5 l-63.75,53.75 35.0,-16.25 l0.0,13.75 0.0,2.5 l-1.25,3.75 3.75,-16.25 m-60.0,52.5 l-65.0,53.75 33.75,-17.5 l1.25,15.0 2.5,5.0 l-1.25,5.0 2.5,-12.5 m-60.0,52.5 l-65.0,53.75 33.75,-17.5 l1.25,15.0 1.25,3.75 l0.0,3.75 \" fill=\"none\" stroke=\"black\" stroke-width=\"1\"/></svg>"
      ],
      "text/plain": [
       "<IPython.core.display.SVG object>"
      ]
     },
     "metadata": {},
     "output_type": "display_data"
    }
   ],
   "source": [
    "with open(\"sheep.txt\", \"r\") as f:\n",
    "    text_data = f.read()\n",
    "text_data = text_data.replace(\" \", \",\")\n",
    "\n",
    "data_array = np.array(eval(text_data))\n",
    "draw_strokes(data_array)\n"
   ]
  }
 ],
 "metadata": {
  "kernelspec": {
   "display_name": "Python 3",
   "language": "python",
   "name": "python3"
  },
  "language_info": {
   "codemirror_mode": {
    "name": "ipython",
    "version": 3
   },
   "file_extension": ".py",
   "mimetype": "text/x-python",
   "name": "python",
   "nbconvert_exporter": "python",
   "pygments_lexer": "ipython3",
   "version": "3.9.6"
  }
 },
 "nbformat": 4,
 "nbformat_minor": 2
}
